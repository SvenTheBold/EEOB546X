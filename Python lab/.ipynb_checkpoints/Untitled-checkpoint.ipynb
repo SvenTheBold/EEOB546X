{
 "cells": [
  {
   "cell_type": "markdown",
   "metadata": {},
   "source": [
    "# BCB 546X: Python Translate Script Assignment\n",
    "## FUNCTIONS SECTION"
   ]
  },
  {
   "cell_type": "markdown",
   "metadata": {},
   "source": [
    "#### Modules to import"
   ]
  },
  {
   "cell_type": "code",
   "execution_count": 195,
   "metadata": {},
   "outputs": [],
   "source": [
    "# General modules\n",
    "from Bio import SeqIO\n",
    "from Bio.Data import CodonTable\n",
    "import pandas as pd\n",
    "\n",
    "# Function modules:\n",
    "    # Function 2\n",
    "from textwrap import wrap\n",
    "    # Function 3\n",
    "from Bio.Seq import Seq\n",
    "from Bio.Alphabet import IUPAC\n",
    "    # Function 4\n",
    "from Bio.SeqUtils.ProtParam import ProteinAnalysis\n",
    "    # Function 5\n",
    "from Bio.SeqUtils import GC"
   ]
  },
  {
   "cell_type": "markdown",
   "metadata": {},
   "source": [
    "### Function 1\n",
    "##### D. X's function for getting sequences from a fasta file"
   ]
  },
  {
   "cell_type": "code",
   "execution_count": 196,
   "metadata": {},
   "outputs": [],
   "source": [
    "###################################################################################################\n",
    "### Function to output the sequences of a fasta file as a python dictionary ###                 ###\n",
    "###################################################################################################\n",
    "def get_sequences_from_file(fasta_fn):                       # This line defines the function name and gives\n",
    "                                                             #     the input file a name as a variable\n",
    "    sequence_data_dict = {}                                  # This line creates an empty dictionary called\n",
    "                                                             #     sequence_data_dict\n",
    "    for record in SeqIO.parse(fasta_fn, \"fasta\"):            # This line takes the input file and tells the\n",
    "                                                             #     SeqIO module to parse it as a fasta file.\n",
    "                                                             #     It then iterates over every record in the\n",
    "                                                             #     output of the SeqIO parse function, and\n",
    "                                                             #     assigns that record to the variable name\n",
    "                                                             #     \"record\".\n",
    "        description = record.description.split()             # This line takes the description field of each\n",
    "                                                             #     record that was passed to it from the for\n",
    "                                                             #     loop, and splits it into a list of strings,\n",
    "                                                             #     with each instance of whitespace in the\n",
    "                                                             #     record serving as a delimiter to separate\n",
    "                                                             #     one string from another. This list of\n",
    "                                                             #     strings is assigned to the variable \n",
    "                                                             #     \"description\".\n",
    "        species_name = description[1] + \" \" + description[2] # This line takes the first two \"words\", the\n",
    "                                                             #     first two strings, from the \"description\"\n",
    "                                                             #     variable, and assigns that to the \"species\n",
    "                                                             #     name\" variable.\n",
    "        sequence_data_dict[species_name] = record.seq        # This line sets the sequence for each record as\n",
    "                                                             #     the value returned by sequence_data_dict\n",
    "                                                             #     whenever the species name that was found\n",
    "                                                             #     in the description is used as a search key.\n",
    "    return(sequence_data_dict)                               # This line returns sequence_data_dict as the \n",
    "                                                             #     output of this function.\n",
    "########################################## SUMMARY ################################################\n",
    "# This function takes in a fasta file and outputs a dictionary file by parsing the file using the #\n",
    "# SeqIO module and then iterating over the resulting records, getting the first two words of      #\n",
    "# SeqIO's description field, taking those two words as the species name to be used as a key for   #\n",
    "# the dictionary, and assigning the sequence to be returned when the species name is used as key. #\n",
    "###################################################################################################"
   ]
  },
  {
   "cell_type": "markdown",
   "metadata": {},
   "source": [
    "### Function 2\n",
    "##### Nucleotide translate function as per DR. X's pseudocode"
   ]
  },
  {
   "cell_type": "code",
   "execution_count": 197,
   "metadata": {},
   "outputs": [],
   "source": [
    "###################################################################################################\n",
    "### Function to output the amino acid sequence for a given nucleotide sequence ###              ###\n",
    "###################################################################################################\n",
    "def get_aminos_from_nucleos(nucleostring):                                       # This line defines the function name and gives\n",
    "                                                                                 #     the input file a name as a variable.\n",
    "    mito_table = CodonTable.unambiguous_dna_by_name[\"Vertebrate Mitochondrial\"]  # This line loads the vertebrate mitochondrial\n",
    "                                                                                 #     codon table into a dictionary named\n",
    "                                                                                 #     mito_table.\n",
    "    aminolist = []                                                               # This line initializes a list of amino acids.\n",
    "    for codon in wrap(nucleostring, 3):                                          # This line breaks the input file into three-\n",
    "                                                                                 #     character chunks, and passes them as a\n",
    "                                                                                 #     variable named \"codon\".\n",
    "        if codon == \"AGA\" or codon == \"AGG\" or codon == \"TAA\" or codon == \"TAG\": # This line checks if the codon is a stop codon.\n",
    "            continue                                                             # This line tells the for-loop to move to the next\n",
    "                                                                                 #     codon if the previous stop codon check\n",
    "                                                                                 #     passes.\n",
    "        else:                                                                    # This line tells the for-loop that the next\n",
    "                                                                                 #     instructions will be what to do if the\n",
    "                                                                                 #     previous check doesn't pass.\n",
    "            aminolist.append(str(mito_table.forward_table[str(codon)]))          # This line does all the heavy lifting. It looks up\n",
    "                                                                                 #     the corresponding amino acid in mito_table's\n",
    "                                                                                 #     forward_table field by passint the codon\n",
    "                                                                                 #     string as a variable, then appends the output\n",
    "                                                                                 #     to the previously-initiated aminolist string.\n",
    "            continue                                                             # This line tells the for-loop to move to the next\n",
    "                                                                                 #     codon.\n",
    "    aminostring = ''.join(aminolist)                                             # This line converst the aminolist into a single\n",
    "                                                                                 #     string.\n",
    "    return(aminostring)                                                          # This line returns the completed aminostring.\n",
    "########################################## SUMMARY ################################################\n",
    "# This function takes in a string of nucleotides and outputs what amino acid sequence that string #\n",
    "# would be translated into by the vertebrate mitochondria, using a for loop and Biopython codon   #\n",
    "# table.                                                                                          #\n",
    "###################################################################################################"
   ]
  },
  {
   "cell_type": "markdown",
   "metadata": {},
   "source": [
    "### Function 3\n",
    "##### Nucleotide translate function, new and improved"
   ]
  },
  {
   "cell_type": "code",
   "execution_count": 198,
   "metadata": {},
   "outputs": [],
   "source": [
    "###################################################################################################\n",
    "### Function to output the amino acid sequence for a given nucleotide sequence ###              ###\n",
    "###################################################################################################\n",
    "def translate_function(nucleostring):                            # This line defines the function name and gives\n",
    "                                                                 #     the input file a name as a variable.\n",
    "    seq = Seq(str(nucleostring), IUPAC.unambiguous_dna)          # This line stores the nucleostring as a dna sequence\n",
    "                                                                 #     named \"seq\" using the Seq module.\n",
    "    return(str(seq.translate(table=2, to_stop=True)))            # This line converts seq into an amino acid string with no\n",
    "                                                                 #     stop codon using the built-in translate function.\n",
    "                                                                 #     Table=2 is what specifies use of the vertebrate\n",
    "                                                                 #     mitochondrial codon table.\n",
    "########################################## SUMMARY ################################################\n",
    "# This function takes in a string of nucleotides and outputs what amino acid sequence that string #\n",
    "# would be translated into by the vertebrate mitochondria, using the built-in translate function. #\n",
    "###################################################################################################"
   ]
  },
  {
   "cell_type": "markdown",
   "metadata": {},
   "source": [
    "### Function 4\n",
    "##### Molecular weight of each amino acid sequence calculator"
   ]
  },
  {
   "cell_type": "code",
   "execution_count": 199,
   "metadata": {},
   "outputs": [],
   "source": [
    "###################################################################################################\n",
    "### Function to output the molecular weight of each 3 amino acid sequence ###                   ###\n",
    "###################################################################################################\n",
    "def compute_molecular_weight(aminoseq):         # This line defines the function names and gives the\n",
    "                                                #     input file a name as a variable.\n",
    "    seq = str(aminoseq)                         # This line converts the input file to a string named \"seq\".\n",
    "    if not \"*\" in seq:                          # This line checks that there are no stop codons in the string.\n",
    "        analyzed_seq = ProteinAnalysis(seq)    # This line uses ProteinAnalysis on seq.\n",
    "        return(analyzed_seq.molecular_weight()) # This line returns the molecular_weight field from the analyzed seq.\n",
    "    else:                                       # This line tells the for-loop that the next instructions will be \n",
    "                                                #     what to do if the previous check doesn't pass.\n",
    "        return(0)                               # This line returns a zero if there are any stop codons in the string.\n",
    "########################################## SUMMARY ################################################\n",
    "# This function takes in a string of amino acids and outputs the molecular weight of that protein #\n",
    "# using a function in the module ProtParam.                                                       #\n",
    "###################################################################################################"
   ]
  },
  {
   "cell_type": "markdown",
   "metadata": {},
   "source": [
    "### Function 5\n",
    "##### Function to compute GC-content of each DNA sequence"
   ]
  },
  {
   "cell_type": "code",
   "execution_count": 200,
   "metadata": {},
   "outputs": [],
   "source": [
    "###################################################################################################\n",
    "### Function to compute GC-content of each DNA sequence ###                                     ###\n",
    "###################################################################################################\n",
    "def compute_gc_content(nucleoseq): # This line defines the function names and gives the input file a name as a variable.\n",
    "    return(GC(nucleoseq))          # This line returns the GC content of the input file using a function from the module SeqUtils.\n",
    "########################################## SUMMARY ################################################\n",
    "# This function takes in a string of nucleotides and outputs the percent GC content of the        #\n",
    "# sequence using a function in the module SeqUtils.                                               #\n",
    "###################################################################################################"
   ]
  },
  {
   "cell_type": "markdown",
   "metadata": {},
   "source": [
    "## MAIN SECTION\n",
    "##### Initial code given by Dr. X:"
   ]
  },
  {
   "cell_type": "code",
   "execution_count": 201,
   "metadata": {},
   "outputs": [],
   "source": [
    "cytb_seqs = get_sequences_from_file(\"penguins_cytb.fasta\") # This line uses our first function to create a dictionary of cytb_seqs\n",
    "                                                           #     for various penguin species out of our provided fasta.\n",
    "\n",
    "penguins_df = pd.read_csv(\"penguins_mass.csv\")             # This line puts our penguin mass table into a python dataframe. \n",
    "species_list = list(penguins_df.species)                   # This line puts our list of species into a python list."
   ]
  },
  {
   "cell_type": "markdown",
   "metadata": {},
   "source": [
    "### Step 6\n",
    "##### Add two new columns to penguin DataFrame:"
   ]
  },
  {
   "cell_type": "code",
   "execution_count": 202,
   "metadata": {},
   "outputs": [
    {
     "name": "stdout",
     "output_type": "stream",
     "text": [
      "                    species   mass molecular weight GC_content\n",
      "0      Aptenodytes forsteri  28.00              NaN        NaN\n",
      "1   Aptenodytes patagonicus  13.40              NaN        NaN\n",
      "2       Eudyptes chrysocome   2.80              NaN        NaN\n",
      "3     Eudyptes chrysolophus   4.50              NaN        NaN\n",
      "4         Eudyptes sclateri   4.25              NaN        NaN\n",
      "5           Eudyptula minor   1.60              NaN        NaN\n",
      "6        Pygoscelis adeliae   4.60              NaN        NaN\n",
      "7     Pygoscelis antarctica   4.10              NaN        NaN\n",
      "8          Pygoscelis papua   6.10              NaN        NaN\n",
      "9       Spheniscus demersus   3.20              NaN        NaN\n",
      "10     Spheniscus humboldti   4.75              NaN        NaN\n",
      "11  Spheniscus magellanicus   3.40              NaN        NaN\n"
     ]
    }
   ],
   "source": [
    "emptycolumn = ['NaN', 'NaN', 'NaN', 'NaN', 'NaN', 'NaN', 'NaN', 'NaN', 'NaN', 'NaN', 'NaN', 'NaN']\n",
    "                                              # The above line creates a list with as many \"NaN\" entries as we \n",
    "                                              #     happen to have columns; this will be our empty column template.\n",
    "penguins_df['molecular weight'] = emptycolumn # This line creates an empty column named \"molecular weight\".\n",
    "penguins_df['GC_content'] = emptycolumn       # This line creates an empty column named \"GC content\".\n",
    "print(penguins_df)                            # This line shows us our new DataFrame:"
   ]
  },
  {
   "cell_type": "markdown",
   "metadata": {},
   "source": [
    "### Step 7\n",
    "##### Write a for-loop that adds the molecular weight and GC content data to the DataFrame:"
   ]
  },
  {
   "cell_type": "code",
   "execution_count": 203,
   "metadata": {},
   "outputs": [
    {
     "name": "stdout",
     "output_type": "stream",
     "text": [
      "                    species   mass molecular weight GC_content\n",
      "0      Aptenodytes forsteri  28.00          42459.6    48.3815\n",
      "1   Aptenodytes patagonicus  13.40          42563.7    49.6938\n",
      "2       Eudyptes chrysocome   2.80          42475.6    51.1811\n",
      "3     Eudyptes chrysolophus   4.50          42445.5    50.9186\n",
      "4         Eudyptes sclateri   4.25          42475.6    50.8311\n",
      "5           Eudyptula minor   1.60          42491.6    49.2563\n",
      "6        Pygoscelis adeliae   4.60          42458.6    49.0814\n",
      "7     Pygoscelis antarctica   4.10          42404.5     47.769\n",
      "8          Pygoscelis papua   6.10          42595.9    47.1566\n",
      "9       Spheniscus demersus   3.20          42431.5     48.294\n",
      "10     Spheniscus humboldti   4.75          42399.6    49.2563\n",
      "11  Spheniscus magellanicus   3.40          42459.6    48.2065\n"
     ]
    },
    {
     "name": "stderr",
     "output_type": "stream",
     "text": [
      "/opt/anaconda3/lib/python3.7/site-packages/ipykernel_launcher.py:7: SettingWithCopyWarning: \n",
      "A value is trying to be set on a copy of a slice from a DataFrame\n",
      "\n",
      "See the caveats in the documentation: http://pandas.pydata.org/pandas-docs/stable/user_guide/indexing.html#returning-a-view-versus-a-copy\n",
      "  import sys\n",
      "/opt/anaconda3/lib/python3.7/site-packages/ipykernel_launcher.py:8: SettingWithCopyWarning: \n",
      "A value is trying to be set on a copy of a slice from a DataFrame\n",
      "\n",
      "See the caveats in the documentation: http://pandas.pydata.org/pandas-docs/stable/user_guide/indexing.html#returning-a-view-versus-a-copy\n",
      "  \n"
     ]
    }
   ],
   "source": [
    "for i in range(0, len(penguins_df['species'])):    # This line sets the loop to iterate numerically over as many species as we have.\n",
    "    name = penguins_df['species'][i]               # This line gets the name of the i-th species.\n",
    "    nucleoseq = cytb_seqs[name]                    # This line gets the nucleotide sequence of the i-th species.\n",
    "    aminoseq = translate_function(nucleoseq)       # This line gets the translated amino acid sequence of the i-th species.\n",
    "    molweight = compute_molecular_weight(aminoseq) # This line gets the molecular weight of the translated amino acid.\n",
    "    gccontent = compute_gc_content(nucleoseq)      # This line gets the GC content of the nucleotide sequence.\n",
    "    penguins_df['molecular weight'][i] = molweight # This line records the molecular weight in the i-th place of the correct column.\n",
    "    penguins_df['GC_content'][i] = gccontent       # This line records the GC content in the i-th place of the correct column.\n",
    "print(penguins_df)                                 # This line prints us our results."
   ]
  },
  {
   "cell_type": "markdown",
   "metadata": {},
   "source": [
    "### Step 8\n",
    "##### Plot a bar-chart of the masses with the x-axes labeled with species names."
   ]
  },
  {
   "cell_type": "code",
   "execution_count": 204,
   "metadata": {},
   "outputs": [
    {
     "data": {
      "image/png": "[encoded data removed]",
      "text/plain": [
       "<Figure size 432x288 with 1 Axes>"
      ]
     },
     "metadata": {
      "needs_background": "light"
     },
     "output_type": "display_data"
    }
   ],
   "source": [
    "penguins_barplot = penguins_df.plot.bar(x='species', y='mass')\n",
    "\n",
    "# The command above plots our dataframe as a bar graph with the species as the X-axis \n",
    "#     and the mass as the Y-axis."
   ]
  },
  {
   "cell_type": "markdown",
   "metadata": {},
   "source": [
    "### *Q1* What is the smallest penguin species?\n",
    "#### Eudyptula minor\n",
    "### *Q2* What else is interesting about this species?\n",
    "#### It's got \"minor\" in its name, and the common name is \"little penguin\".\n",
    "#### It is also known by its Māori name: kororā."
   ]
  },
  {
   "cell_type": "code",
   "execution_count": 205,
   "metadata": {},
   "outputs": [
    {
     "data": {
      "image/png": "[encoded data removed]",
      "text/plain": [
       "<Figure size 432x288 with 1 Axes>"
      ]
     },
     "metadata": {
      "needs_background": "light"
     },
     "output_type": "display_data"
    }
   ],
   "source": [
    "penguins_scatterplot = penguins_df.plot.scatter(x=['GC_content'], y=['molecular weight'])\n",
    "\n",
    "# The command above plots our dataframe as a scatterplot with the GC content as the X-axis and the\n",
    "#     molecular weight as the Y-axis."
   ]
  },
  {
   "cell_type": "code",
   "execution_count": 206,
   "metadata": {},
   "outputs": [],
   "source": [
    "penguins_df.to_csv(path_or_buf=\"penguins_mass_cytb.csv\", index=False) \n",
    "\n",
    "# This line saves our modified dataframe to a csv file with the specified name, without including the index numbers 0-11."
   ]
  }
 ],
 "metadata": {
  "kernelspec": {
   "display_name": "Python 3",
   "language": "python",
   "name": "python3"
  },
  "language_info": {
   "codemirror_mode": {
    "name": "ipython",
    "version": 3
   },
   "file_extension": ".py",
   "mimetype": "text/x-python",
   "name": "python",
   "nbconvert_exporter": "python",
   "pygments_lexer": "ipython3",
   "version": "3.7.5"
  }
 },
 "nbformat": 4,
 "nbformat_minor": 4
}
